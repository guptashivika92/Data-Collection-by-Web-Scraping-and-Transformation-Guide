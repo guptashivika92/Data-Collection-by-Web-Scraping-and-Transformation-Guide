{
 "cells": [
  {
   "attachments": {},
   "cell_type": "markdown",
   "metadata": {},
   "source": [
    "# Data Collection by Web Scraping and Transformation Guide"
   ]
  },
  {
   "cell_type": "markdown",
   "metadata": {},
   "source": [
    "## Project Background:\n",
    "The purpose of this project is to identify the trends and patterns in doctor's ratings based on their specialty, rank, previous ratings, gender, and other aspects. Additionally, analysis of patient's reviews to see if the doctors of a certain specialty face greater negative emotion compared to others. To perform the analysis I will first require the adequate data in the required format. And so I will perform website scraping of [RateMDs](https://www.ratemds.com/).\n",
    "\n",
    "Two types of detail that will be scrapped from the website.\n",
    "1. Basic Information:\n",
    "\n",
    "   - Name\n",
    "   - Specialist\n",
    "   - Gender\n",
    "   - Overall Rating\n",
    "   - Rank\n",
    "   - Profile Image(if exists?Y/N)\n",
    "   \n",
    "   \n",
    "2. Doctor's Reviews:\n",
    "   \n",
    "   - Specialist\n",
    "   - Gender\n",
    "   - Overall Rating\n",
    "   - Review Comments\n",
    "   - Review Rating\n",
    "   - How Useful?\n",
    "   - Submission Date\n",
    "   - Staff\n",
    "   - Punctuality\n",
    "   - Helpfulness\n",
    "   - Knowledge\n",
    "   \n",
    "   \n",
    "## Step by step approach to WebScraping:   \n",
    "##### Step 1: Import the libraries."
   ]
  },
  {
   "cell_type": "code",
   "execution_count": 11,
   "metadata": {},
   "outputs": [],
   "source": [
    "#Import Webscraping Libraries\n",
    "from bs4 import BeautifulSoup\n",
    "import requests\n",
    "\n",
    "#Import Data structure libraries\n",
    "import pandas as pd\n",
    "import numpy as np"
   ]
  },
  {
   "cell_type": "markdown",
   "metadata": {},
   "source": [
    "##### Step 2: Accept website url to be scrapped in a variable."
   ]
  },
  {
   "cell_type": "code",
   "execution_count": 5,
   "metadata": {},
   "outputs": [
    {
     "name": "stdout",
     "output_type": "stream",
     "text": [
      "Enter the url for scrapping: https://www.ratemds.com/best-doctors/ny/new-york/\n"
     ]
    }
   ],
   "source": [
    "#Enter url for scrapping (https://www.ratemds.com/best-doctors/)\n",
    "site = input('Enter the url for scrapping: ')"
   ]
  },
  {
   "cell_type": "markdown",
   "metadata": {},
   "source": [
    "##### Step 3: Write modular programs using functions to scrape each element of the data."
   ]
  },
  {
   "cell_type": "code",
   "execution_count": 6,
   "metadata": {},
   "outputs": [],
   "source": [
    "#Function web_list creates a list of doctor's web pages to be scrapped\n",
    "def web_list(site):\n",
    "    \n",
    "    drpages = []\n",
    "    \n",
    "    pages = site + '?page='\n",
    "    \n",
    "    for num in range(1, 2):\n",
    "        #Weblink to each next page\n",
    "        link = pages + str(num)\n",
    "        \n",
    "        webcode = requests.get(link)\n",
    "        webcontent = webcode.content\n",
    "        \n",
    "        #Parse webcontent through Html using BeautifulSoup \n",
    "        websoup = BeautifulSoup(webcontent, 'html.parser')\n",
    "        dr_divcls = websoup.find_all(\"div\", {\"class\": \"search-item doctor-profile\"})\n",
    "        \n",
    "        #Loop through each doctor's link\n",
    "        for item in dr_divcls:\n",
    "            try:\n",
    "                dr_aclass = item.find(\"a\", {\"class\": \"search-item-doctor-link\"})\n",
    "                dr_href = dr_aclass.get('href')\n",
    "                dr_link = \"https://www.ratemds.com/\"+dr_href\n",
    "                drpages.append(dr_link)\n",
    "            except:\n",
    "                pass\n",
    "    return drpages"
   ]
  },
  {
   "cell_type": "code",
   "execution_count": 7,
   "metadata": {},
   "outputs": [
    {
     "data": {
      "text/plain": [
       "['https://www.ratemds.com//doctor-ratings/140581/Dr-David-Shusterman-Rego+Park-NY.html',\n",
       " 'https://www.ratemds.com//doctor-ratings/3183031/Dr-Janan+S.-Sayyed-NEW+YORK-NY.html',\n",
       " 'https://www.ratemds.com//doctor-ratings/141266/Dr-Bruce+S.-Hoffman-New+York-NY.html',\n",
       " 'https://www.ratemds.com//doctor-ratings/871234/Dr-Michael+C.-Gartner-Paramus-NJ.html',\n",
       " 'https://www.ratemds.com//doctor-ratings/dr-nigel-pereira-new-york-ny-us',\n",
       " 'https://www.ratemds.com//doctor-ratings/dr-lesley-rabach-new-york-ny-us',\n",
       " 'https://www.ratemds.com//doctor-ratings/3220016/Dr-SHU+PING-RONG-New+York-NY.html',\n",
       " 'https://www.ratemds.com//doctor-ratings/3177266/Dr-IMAD+E.-AYOUBI-New+York-NY.html',\n",
       " 'https://www.ratemds.com//doctor-ratings/3346561/Dr-ANDREW+D.-FRANGELLA-New+York-NY.html',\n",
       " 'https://www.ratemds.com//doctor-ratings/136785/Dr-Douglas-Steinbrech-New+York-NY.html',\n",
       " 'https://www.ratemds.com//doctor-ratings/2960786/Dr-Joshua-Zuckerman-Garden+City-NY.html']"
      ]
     },
     "execution_count": 7,
     "metadata": {},
     "output_type": "execute_result"
    }
   ],
   "source": [
    "web_list(site)"
   ]
  },
  {
   "attachments": {},
   "cell_type": "markdown",
   "metadata": {},
   "source": [
    "#### Basic Doctor Details:"
   ]
  },
  {
   "cell_type": "code",
   "execution_count": 8,
   "metadata": {},
   "outputs": [],
   "source": [
    "#Function dr_basics extracts information such as: Doctor's Name, Speciality and Gender\n",
    "def dr_basics(drsoup):\n",
    "    \n",
    "    #Doctor Name\n",
    "    drname_box = drsoup.find(\"h1\", attrs={\"itemprop\": \"name\"})\n",
    "    #.text is used to get text between Html tags value \n",
    "    dr_name = drname_box.text.strip() \n",
    "        \n",
    "    #Doctor Specialities\n",
    "    drspec_box = drsoup.find(\"div\", attrs={\"class\":\"search-item-info\"})\n",
    "    #.strip is used to remove starting and trailing\n",
    "    dr_specialist = drspec_box.text.strip()\n",
    "    \n",
    "    #Doctor Gender\n",
    "    drgend_box = drsoup.find(\"div\", attrs={\"class\":\"col-sm-3 col-md-4 search-item-extra\"}).text\n",
    "    dr_gender = drgend_box[1]\n",
    "    \n",
    "    return dr_name, dr_specialist, dr_gender"
   ]
  },
  {
   "attachments": {},
   "cell_type": "markdown",
   "metadata": {},
   "source": [
    "#### Doctor's Overall Rating and Rank:"
   ]
  },
  {
   "cell_type": "code",
   "execution_count": 9,
   "metadata": {},
   "outputs": [],
   "source": [
    "#Function dr_grading extracts information such as: Overall Rating and Rank in the region within their speciality\n",
    "def dr_grading(drsoup):\n",
    "    \n",
    "    #Doctor's Overall Rating\n",
    "    drrat_box = drsoup.find(\"span\", attrs={\"class\":\"star-rating\"})\n",
    "    overall_rating = drrat_box['title']\n",
    "    \n",
    "    #Doctor's rank among fellow doctors\n",
    "    drrank_box1 = drsoup.find(\"div\", attrs={\"class\":\"col-sm-6\"})\n",
    "    drrank_box2 = drrank_box1.find_all(\"div\", attrs={\"class\":\"search-item-info\"})\n",
    "    \n",
    "    for item in drrank_box2:\n",
    "        if '#' in item.text:\n",
    "            dr_rank = item.text\n",
    "        \n",
    "    return overall_rating, dr_rank"
   ]
  },
  {
   "attachments": {},
   "cell_type": "markdown",
   "metadata": {},
   "source": [
    "#### Does the Doctor's profile have a picture or no?"
   ]
  },
  {
   "cell_type": "code",
   "execution_count": 10,
   "metadata": {},
   "outputs": [],
   "source": [
    "#Function dr_chkimage check if doctor's profile picture exists or not\n",
    "def dr_chkimage(dr_url):\n",
    "    imgcode = requests.get(dr_url)\n",
    "    imgcont = imgcode.content\n",
    "    imgsoup = BeautifulSoup(imgcont, 'html.parser')\n",
    "\n",
    "    dr_imgbox = imgsoup.find_all(\"img\")\n",
    "\n",
    "    for item in dr_imgbox:\n",
    "        if ('jpg' in item[\"src\"]) and ('https' in item[\"src\"]):\n",
    "            return 'Y'\n",
    "            break\n",
    "        elif ('jpg' in item[\"src\"]) and ('//www.ratemds.com/static/img/doctors/doctor-' in item[\"src\"]):\n",
    "            return 'N'\n",
    "            break"
   ]
  },
  {
   "cell_type": "markdown",
   "metadata": {},
   "source": [
    "##### Step 4: Create a main function that calls all the sub functions. The purpose of the main function is to collect, sync and store the data."
   ]
  },
  {
   "cell_type": "code",
   "execution_count": 13,
   "metadata": {},
   "outputs": [],
   "source": [
    "#Function dr_detail is the main function that calls all other functions to each of the doctors detail\n",
    "data = []\n",
    "def dr_detail(drpages):\n",
    "    \n",
    "    for i in range(0,len(drpages)):\n",
    "        #Content for each doctor site\n",
    "        drcode = requests.get(drpages[i])\n",
    "        drcontent = drcode.content\n",
    "        \n",
    "        #Parse webcontent through Html using BeautifulSoup \n",
    "        drsoup = BeautifulSoup(drcontent, \"html.parser\")\n",
    "        \n",
    "        #Calling dr_basics function to get Name, Specialization and Gender details\n",
    "        try:\n",
    "            dr_name, dr_specialist, dr_gender = dr_basics(drsoup)\n",
    "        except Exception:\n",
    "            pass\n",
    "        \n",
    "        #Calling dr_grading function to get rating and ranking details\n",
    "        try:\n",
    "            overall_rating, dr_regionrank = dr_grading(drsoup)\n",
    "        except Exception:\n",
    "            pass\n",
    "        \n",
    "        #Calling dr_chkimage function to see if the doctor's profile has image or not\n",
    "        try:\n",
    "            dr_profileimage = dr_chkimage(drpages[i])\n",
    "        except Exception:\n",
    "            pass\n",
    "        \n",
    "        data.append((dr_name, dr_specialist, dr_gender,overall_rating, dr_regionrank,dr_profileimage,drpages[i]))\n",
    "        \n",
    "    return data        "
   ]
  },
  {
   "cell_type": "markdown",
   "metadata": {},
   "source": [
    "##### Step 5: Create the dataframe with columns defined."
   ]
  },
  {
   "cell_type": "code",
   "execution_count": 14,
   "metadata": {},
   "outputs": [],
   "source": [
    "#Calling function web_list to get the list of doctors\n",
    "drlist = web_list(site)\n",
    "\n",
    "#Calling function dr_detail to get all the detail of each of the doctor\n",
    "data1 = dr_detail(drlist)\n",
    "\n",
    "#Creating a dataframe of all the details of doctor\n",
    "df1 = pd.DataFrame.from_records(data1, columns =['Name', 'Specialist', 'Gender','Overall Rating', 'Rank','Profile Image(if exists?Y/N)','Link']) "
   ]
  },
  {
   "cell_type": "markdown",
   "metadata": {},
   "source": [
    "##### Step 6: Display part of the record using .head() method, to check data is if the data is as expected."
   ]
  },
  {
   "cell_type": "code",
   "execution_count": 25,
   "metadata": {},
   "outputs": [
    {
     "data": {
      "text/html": [
       "<div>\n",
       "<style scoped>\n",
       "    .dataframe tbody tr th:only-of-type {\n",
       "        vertical-align: middle;\n",
       "    }\n",
       "\n",
       "    .dataframe tbody tr th {\n",
       "        vertical-align: top;\n",
       "    }\n",
       "\n",
       "    .dataframe thead th {\n",
       "        text-align: right;\n",
       "    }\n",
       "</style>\n",
       "<table border=\"1\" class=\"dataframe\">\n",
       "  <thead>\n",
       "    <tr style=\"text-align: right;\">\n",
       "      <th></th>\n",
       "      <th>Name</th>\n",
       "      <th>Specialist</th>\n",
       "      <th>Gender</th>\n",
       "      <th>Overall Rating</th>\n",
       "      <th>Rank</th>\n",
       "      <th>Profile Image(if exists?Y/N)</th>\n",
       "      <th>Link</th>\n",
       "    </tr>\n",
       "  </thead>\n",
       "  <tbody>\n",
       "    <tr>\n",
       "      <th>0</th>\n",
       "      <td>Dr. Janan S. Sayyed</td>\n",
       "      <td>Chiropractor</td>\n",
       "      <td>F</td>\n",
       "      <td>4.99</td>\n",
       "      <td>#1 of 967 Chiropractors in New York City,New York</td>\n",
       "      <td>Y</td>\n",
       "      <td>https://www.ratemds.com//doctor-ratings/318303...</td>\n",
       "    </tr>\n",
       "    <tr>\n",
       "      <th>1</th>\n",
       "      <td>Bruce S. Hoffman</td>\n",
       "      <td>Psychologist</td>\n",
       "      <td>M</td>\n",
       "      <td>4.97</td>\n",
       "      <td>#1 of 4133 Psychologists in New York City,New ...</td>\n",
       "      <td>Y</td>\n",
       "      <td>https://www.ratemds.com//doctor-ratings/141266...</td>\n",
       "    </tr>\n",
       "    <tr>\n",
       "      <th>2</th>\n",
       "      <td>Dr. Michael C. Gartner</td>\n",
       "      <td>Plastic / Cosmetic Surgeon, Physician</td>\n",
       "      <td>M</td>\n",
       "      <td>4.95</td>\n",
       "      <td>#1 of 21 Plastic / Cosmetic Surgeons, Physicia...</td>\n",
       "      <td>Y</td>\n",
       "      <td>https://www.ratemds.com//doctor-ratings/871234...</td>\n",
       "    </tr>\n",
       "    <tr>\n",
       "      <th>3</th>\n",
       "      <td>Dr. Nigel Pereira</td>\n",
       "      <td>Reproductive Endocrinologist</td>\n",
       "      <td>M</td>\n",
       "      <td>4.98</td>\n",
       "      <td>#1 of 158 Reproductive Endocrinologists in New...</td>\n",
       "      <td>Y</td>\n",
       "      <td>https://www.ratemds.com//doctor-ratings/dr-nig...</td>\n",
       "    </tr>\n",
       "    <tr>\n",
       "      <th>4</th>\n",
       "      <td>Dr. Lesley Rabach</td>\n",
       "      <td>Plastic / Cosmetic Surgeon, Physician</td>\n",
       "      <td>F</td>\n",
       "      <td>4.99</td>\n",
       "      <td>#2 of 535 Plastic / Cosmetic Surgeons, Physici...</td>\n",
       "      <td>Y</td>\n",
       "      <td>https://www.ratemds.com//doctor-ratings/dr-les...</td>\n",
       "    </tr>\n",
       "  </tbody>\n",
       "</table>\n",
       "</div>"
      ],
      "text/plain": [
       "                     Name                             Specialist Gender  \\\n",
       "0     Dr. Janan S. Sayyed                           Chiropractor      F   \n",
       "1        Bruce S. Hoffman                           Psychologist      M   \n",
       "2  Dr. Michael C. Gartner  Plastic / Cosmetic Surgeon, Physician      M   \n",
       "3       Dr. Nigel Pereira           Reproductive Endocrinologist      M   \n",
       "4       Dr. Lesley Rabach  Plastic / Cosmetic Surgeon, Physician      F   \n",
       "\n",
       "  Overall Rating                                               Rank  \\\n",
       "0           4.99  #1 of 967 Chiropractors in New York City,New York   \n",
       "1           4.97  #1 of 4133 Psychologists in New York City,New ...   \n",
       "2           4.95  #1 of 21 Plastic / Cosmetic Surgeons, Physicia...   \n",
       "3           4.98  #1 of 158 Reproductive Endocrinologists in New...   \n",
       "4           4.99  #2 of 535 Plastic / Cosmetic Surgeons, Physici...   \n",
       "\n",
       "  Profile Image(if exists?Y/N)  \\\n",
       "0                            Y   \n",
       "1                            Y   \n",
       "2                            Y   \n",
       "3                            Y   \n",
       "4                            Y   \n",
       "\n",
       "                                                Link  \n",
       "0  https://www.ratemds.com//doctor-ratings/318303...  \n",
       "1  https://www.ratemds.com//doctor-ratings/141266...  \n",
       "2  https://www.ratemds.com//doctor-ratings/871234...  \n",
       "3  https://www.ratemds.com//doctor-ratings/dr-nig...  \n",
       "4  https://www.ratemds.com//doctor-ratings/dr-les...  "
      ]
     },
     "execution_count": 25,
     "metadata": {},
     "output_type": "execute_result"
    }
   ],
   "source": [
    "#Displaying extracted data\n",
    "df1.head()"
   ]
  },
  {
   "cell_type": "markdown",
   "metadata": {},
   "source": [
    "##### Step 7: Use to_excel method to export the data into excel. "
   ]
  },
  {
   "cell_type": "code",
   "execution_count": 15,
   "metadata": {},
   "outputs": [],
   "source": [
    "#Exporting the data to an excel sheet\n",
    "df1.to_excel(\"D:\\Dr_Data_V1.0.xlsx\",sheet_name='Sheet1', index=False)"
   ]
  },
  {
   "cell_type": "markdown",
   "metadata": {},
   "source": [
    "--------------------------------------------------"
   ]
  },
  {
   "attachments": {},
   "cell_type": "markdown",
   "metadata": {},
   "source": [
    "#### Patient's reviews and ratings"
   ]
  },
  {
   "cell_type": "markdown",
   "metadata": {},
   "source": [
    "##### Step 8: For extracting review comments and ratings, perform steps 3-7. "
   ]
  },
  {
   "cell_type": "code",
   "execution_count": 17,
   "metadata": {},
   "outputs": [],
   "source": [
    "#Function dr_comments extracts evaluation, reviews, ratings and date of submission. It also pulls out if the review was useful.\n",
    "def dr_comments(review_box):\n",
    "    dr_comm = []\n",
    "    \n",
    "    for item in review_box:\n",
    "        rev_rating = item.find(\"span\", attrs={\"class\":\"star-rating\"})\n",
    "        dr_comm.append((item.text,rev_rating['title']))\n",
    "    return dr_comm"
   ]
  },
  {
   "attachments": {},
   "cell_type": "markdown",
   "metadata": {},
   "source": [
    "#### Number of pages of reviews: "
   ]
  },
  {
   "cell_type": "code",
   "execution_count": 18,
   "metadata": {},
   "outputs": [],
   "source": [
    "#Function dr_pages extracts number of review pages on each doctor's site.\n",
    "def dr_pages(drsoup):\n",
    "    \n",
    "    try:\n",
    "        pagination = drsoup.find(\"ul\", attrs={\"class\":\"pagination pagination-sm\"})\n",
    "        pages = [li.text for li in pagination.find_all('li')]\n",
    "        lastpage = pages[-2]\n",
    "    except:\n",
    "        lastpage = 1\n",
    "    \n",
    "    return lastpage"
   ]
  },
  {
   "cell_type": "code",
   "execution_count": 19,
   "metadata": {},
   "outputs": [],
   "source": [
    "#Function dr_reviews is the main function that calls all other functions to each of the doctors reviews and ratings\n",
    "fulldata = []\n",
    "def dr_reviews(drpages):\n",
    "    \n",
    "    for i in range(0,len(drpages)):\n",
    "        \n",
    "        #Content for each doctor site\n",
    "        drcode = requests.get(drpages[i])\n",
    "        drcontent = drcode.content\n",
    "\n",
    "        #Parse webcontent through Html using BeautifulSoup \n",
    "        drsoup = BeautifulSoup(drcontent, \"html.parser\")\n",
    "        \n",
    "        #Calling dr_basics function to get Name, Specialization and Gender details\n",
    "        try:\n",
    "            dr_name, dr_specialist, dr_gender = dr_basics(drsoup)\n",
    "            \n",
    "        except Exception:\n",
    "            pass\n",
    "\n",
    "        #Calling dr_grading function to get rating and ranking details\n",
    "        try:\n",
    "            overall_rating, dr_regionrank = dr_grading(drsoup)\n",
    "            \n",
    "        except Exception:\n",
    "            pass\n",
    "\n",
    "        #Calling dr_chkimage function to see if the doctor's profile has image or not\n",
    "        try:\n",
    "            dr_profileimage = dr_chkimage(drpages[i])\n",
    "            \n",
    "        except Exception:\n",
    "            pass\n",
    "\n",
    "        \n",
    "        try:\n",
    "            last_page = dr_pages(drsoup)\n",
    "            \n",
    "        except:\n",
    "            pass\n",
    "        \n",
    "        #Calling dr_basics function to get Name, Specialization and Gender details\n",
    "        website = drpages[i] + '?page='\n",
    "\n",
    "        num = int(last_page) if int(last_page) < 4 else 3\n",
    "\n",
    "        for n in range(1,num+1):\n",
    "            webpage = website + str(n)\n",
    "\n",
    "            drrevcode = requests.get(webpage)\n",
    "            drrevcont = drrevcode.content\n",
    "            drrevsoup = BeautifulSoup(drrevcont, \"html.parser\")\n",
    "\n",
    "            review_box = drrevsoup.find_all(\"div\", attrs={\"class\":\"rating\"})\n",
    "\n",
    "            try:\n",
    "                temp_rev = dr_comments(review_box)\n",
    "                \n",
    "            except:\n",
    "                pass\n",
    "        \n",
    "        \n",
    "            for com in temp_rev:\n",
    "                fulldata.append((dr_specialist, dr_gender,overall_rating, com[0],com[1]))\n",
    "        \n",
    "    return fulldata"
   ]
  },
  {
   "cell_type": "code",
   "execution_count": 20,
   "metadata": {},
   "outputs": [],
   "source": [
    "#Calling function dr_reviews to get all the review details of each of the doctor\n",
    "data2 = dr_reviews(drlist)\n",
    "\n",
    "#Creating a dataframe of all the review details of doctor\n",
    "df2 = pd.DataFrame.from_records(data2, columns =['Specialist', 'Gender','Overall Rating', 'Review Comments','Review Rating']) "
   ]
  },
  {
   "cell_type": "markdown",
   "metadata": {},
   "source": [
    "##### Step 9: Manupulate the data in the dataframe to get it in the required format. "
   ]
  },
  {
   "cell_type": "code",
   "execution_count": 90,
   "metadata": {},
   "outputs": [],
   "source": [
    "#Lambda functions are anonymous functions that take arguments and perform action iteratively. Syntax:lambda arguments : expression\n",
    "df2['How Useful?'] = df2['Review Comments'].apply(lambda st: st[st.index(\"Was this rating useful? \")+24:st.find(\"| Submitted\")])"
   ]
  },
  {
   "cell_type": "code",
   "execution_count": 96,
   "metadata": {},
   "outputs": [],
   "source": [
    "# .split() is used to split the text. Syntax: txt.split(separator, maxsplit) \n",
    "#maxsplit (optional) tells to split the string into maximum of the provided number of times. \n",
    "df2['Submission Date'] = df2['Review Comments'].str.split(' Submitted ').str[1]\n",
    "df2[\"Staff\"] = df2['Review Comments'].str.split(' ').str[1]\n",
    "df2[\"Punctuality\"] = df2['Review Comments'].str.split(' ').str[2]\n",
    "df2[\"Helpfulness\"] = df2['Review Comments'].str.split(' ').str[3]\n",
    "df2[\"Knowledge\"] = df2['Review Comments'].str.split('Knowledge').str[0]\n",
    "df2[\"Knowledge\"] = df2[\"Knowledge\"].str.split(' ').str[4]"
   ]
  },
  {
   "cell_type": "code",
   "execution_count": 133,
   "metadata": {},
   "outputs": [],
   "source": [
    "df2['Review Comments'] = df2['Review Comments'].apply(lambda st: st[st.index(\"Knowledge\")+9:st.find(\"Was this rating useful?\")])"
   ]
  },
  {
   "cell_type": "code",
   "execution_count": 139,
   "metadata": {},
   "outputs": [],
   "source": [
    "# .replace is used to replace string with other value \n",
    "#Syntax; DataFrame.replace(to_replace=None, value=None, inplace=False, limit=None, regex=False, method=’pad’, axis=None)\n",
    "df2[\"Staff\"] = df2[\"Staff\"].str.replace('Staff','')\n",
    "df2[\"Punctuality\"] = df2[\"Punctuality\"].str.replace('Punctuality','')\n",
    "df2[\"Helpfulness\"] = df2[\"Helpfulness\"].str.replace('Helpfulness','')"
   ]
  },
  {
   "cell_type": "code",
   "execution_count": 140,
   "metadata": {},
   "outputs": [
    {
     "data": {
      "text/html": [
       "<div>\n",
       "<style scoped>\n",
       "    .dataframe tbody tr th:only-of-type {\n",
       "        vertical-align: middle;\n",
       "    }\n",
       "\n",
       "    .dataframe tbody tr th {\n",
       "        vertical-align: top;\n",
       "    }\n",
       "\n",
       "    .dataframe thead th {\n",
       "        text-align: right;\n",
       "    }\n",
       "</style>\n",
       "<table border=\"1\" class=\"dataframe\">\n",
       "  <thead>\n",
       "    <tr style=\"text-align: right;\">\n",
       "      <th></th>\n",
       "      <th>Specialist</th>\n",
       "      <th>Gender</th>\n",
       "      <th>Overall Rating</th>\n",
       "      <th>Review Comments</th>\n",
       "      <th>Review Rating</th>\n",
       "      <th>How Useful?</th>\n",
       "      <th>Submission Date</th>\n",
       "      <th>Staff</th>\n",
       "      <th>Punctuality</th>\n",
       "      <th>Helpfulness</th>\n",
       "      <th>Knowledge</th>\n",
       "    </tr>\n",
       "  </thead>\n",
       "  <tbody>\n",
       "    <tr>\n",
       "      <th>0</th>\n",
       "      <td>Chiropractor</td>\n",
       "      <td>F</td>\n",
       "      <td>4.99</td>\n",
       "      <td>Dr. Janan Sayyed read my MRIs and explained to...</td>\n",
       "      <td>5.00</td>\n",
       "      <td>0 flag</td>\n",
       "      <td>January 22, 2020</td>\n",
       "      <td>5</td>\n",
       "      <td>5</td>\n",
       "      <td>5</td>\n",
       "      <td>5</td>\n",
       "    </tr>\n",
       "    <tr>\n",
       "      <th>1</th>\n",
       "      <td>Chiropractor</td>\n",
       "      <td>F</td>\n",
       "      <td>4.99</td>\n",
       "      <td>I saw Dr. Janan Sayyed for Chiropractic care a...</td>\n",
       "      <td>5.00</td>\n",
       "      <td>0 flag</td>\n",
       "      <td>January 20, 2020</td>\n",
       "      <td>5</td>\n",
       "      <td>5</td>\n",
       "      <td>5</td>\n",
       "      <td>5</td>\n",
       "    </tr>\n",
       "    <tr>\n",
       "      <th>2</th>\n",
       "      <td>Chiropractor</td>\n",
       "      <td>F</td>\n",
       "      <td>4.99</td>\n",
       "      <td>Dr. Janan Sayyed is an amazing healer. She has...</td>\n",
       "      <td>5.00</td>\n",
       "      <td>2 flag</td>\n",
       "      <td>December 27, 2019</td>\n",
       "      <td>5</td>\n",
       "      <td>5</td>\n",
       "      <td>5</td>\n",
       "      <td>5</td>\n",
       "    </tr>\n",
       "    <tr>\n",
       "      <th>3</th>\n",
       "      <td>Chiropractor</td>\n",
       "      <td>F</td>\n",
       "      <td>4.99</td>\n",
       "      <td>Dr.Janan Sayyed is an awesome Chiropractor. I ...</td>\n",
       "      <td>5.00</td>\n",
       "      <td>2 flag</td>\n",
       "      <td>December 18, 2019</td>\n",
       "      <td>5</td>\n",
       "      <td>5</td>\n",
       "      <td>5</td>\n",
       "      <td>5</td>\n",
       "    </tr>\n",
       "    <tr>\n",
       "      <th>4</th>\n",
       "      <td>Chiropractor</td>\n",
       "      <td>F</td>\n",
       "      <td>4.99</td>\n",
       "      <td>Dr. Sayyed is a very nice chiropractor. The st...</td>\n",
       "      <td>5.00</td>\n",
       "      <td>3 flag</td>\n",
       "      <td>December 18, 2019</td>\n",
       "      <td>5</td>\n",
       "      <td>5</td>\n",
       "      <td>5</td>\n",
       "      <td>5</td>\n",
       "    </tr>\n",
       "  </tbody>\n",
       "</table>\n",
       "</div>"
      ],
      "text/plain": [
       "     Specialist Gender Overall Rating  \\\n",
       "0  Chiropractor      F           4.99   \n",
       "1  Chiropractor      F           4.99   \n",
       "2  Chiropractor      F           4.99   \n",
       "3  Chiropractor      F           4.99   \n",
       "4  Chiropractor      F           4.99   \n",
       "\n",
       "                                     Review Comments Review Rating  \\\n",
       "0  Dr. Janan Sayyed read my MRIs and explained to...          5.00   \n",
       "1  I saw Dr. Janan Sayyed for Chiropractic care a...          5.00   \n",
       "2  Dr. Janan Sayyed is an amazing healer. She has...          5.00   \n",
       "3  Dr.Janan Sayyed is an awesome Chiropractor. I ...          5.00   \n",
       "4  Dr. Sayyed is a very nice chiropractor. The st...          5.00   \n",
       "\n",
       "  How Useful?    Submission Date Staff Punctuality Helpfulness Knowledge  \n",
       "0     0 flag    January 22, 2020     5           5           5         5  \n",
       "1     0 flag    January 20, 2020     5           5           5         5  \n",
       "2     2 flag   December 27, 2019     5           5           5         5  \n",
       "3     2 flag   December 18, 2019     5           5           5         5  \n",
       "4     3 flag   December 18, 2019     5           5           5         5  "
      ]
     },
     "execution_count": 140,
     "metadata": {},
     "output_type": "execute_result"
    }
   ],
   "source": [
    "df2.head()"
   ]
  },
  {
   "cell_type": "code",
   "execution_count": 5,
   "metadata": {},
   "outputs": [],
   "source": [
    "#Exporting the data to an excel sheet\n",
    "df2.to_excel(\"D:\\Dr_Reviews_V1.0.xlsx\",sheet_name='Sheet1', index=False)"
   ]
  }
 ],
 "metadata": {
  "kernelspec": {
   "display_name": "Python 3",
   "language": "python",
   "name": "python3"
  },
  "language_info": {
   "codemirror_mode": {
    "name": "ipython",
    "version": 3
   },
   "file_extension": ".py",
   "mimetype": "text/x-python",
   "name": "python",
   "nbconvert_exporter": "python",
   "pygments_lexer": "ipython3",
   "version": "3.7.3"
  }
 },
 "nbformat": 4,
 "nbformat_minor": 2
}
